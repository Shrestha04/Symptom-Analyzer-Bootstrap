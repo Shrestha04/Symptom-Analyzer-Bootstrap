{
  "nbformat": 4,
  "nbformat_minor": 0,
  "metadata": {
    "colab": {
      "provenance": []
    },
    "kernelspec": {
      "name": "python3",
      "display_name": "Python 3"
    },
    "language_info": {
      "name": "python"
    }
  },
  "cells": [
    {
      "cell_type": "code",
      "source": [
        "import pandas as pd"
      ],
      "metadata": {
        "id": "Zgci-JyxRw73"
      },
      "execution_count": 1,
      "outputs": []
    },
    {
      "cell_type": "code",
      "execution_count": 2,
      "metadata": {
        "id": "9ZmqvgcKRt0J"
      },
      "outputs": [],
      "source": [
        "\n",
        "\n",
        "# Creating the dataset\n",
        "data = {\n",
        "    \"Disease\": [\n",
        "        \"Fungal infection\", \"Allergy\", \"GERD\", \"Chronic cholestasis\", \"Drug Reaction\",\n",
        "        \"Peptic ulcer disease\", \"AIDS\", \"Diabetes\", \"Gastroenteritis\", \"Bronchial Asthma\",\n",
        "        \"Hypertension\", \"Migraine\", \"Cervical spondylosis\", \"Paralysis (brain hemorrhage)\",\n",
        "        \"Jaundice\", \"Malaria\", \"Chicken pox\", \"Dengue\", \"Typhoid\", \"Hepatitis A\", \"Hepatitis B\",\n",
        "        \"Hepatitis C\", \"Hepatitis D\", \"Hepatitis E\", \"Alcoholic hepatitis\", \"Tuberculosis\",\n",
        "        \"Common Cold\", \"Pneumonia\", \"Dimorphic hemorrhoids (piles)\", \"Heart attack\",\n",
        "        \"Varicose veins\", \"Hypothyroidism\", \"Hyperthyroidism\", \"Hypoglycemia\", \"Osteoarthritis\",\n",
        "        \"Arthritis\", \"(Vertigo) Paroxysmal Positional Vertigo\", \"Acne\", \"Urinary tract infection\",\n",
        "        \"Psoriasis\", \"Impetigo\"\n",
        "    ],\n",
        "    \"Recommended Specialist\": [\n",
        "        \"Dermatologist\", \"Allergist/Immunologist\", \"Gastroenterologist\", \"Gastroenterologist\",\n",
        "        \"Allergist/Immunologist or Dermatologist\", \"Gastroenterologist\", \"Infectious Disease Specialist\",\n",
        "        \"Endocrinologist\", \"Gastroenterologist\", \"Pulmonologist\", \"Cardiologist\", \"Neurologist\",\n",
        "        \"Orthopedic Specialist or Neurologist\", \"Neurologist\", \"Gastroenterologist or Hepatologist\",\n",
        "        \"Infectious Disease Specialist\", \"Dermatologist or Infectious Disease Specialist\",\n",
        "        \"Infectious Disease Specialist\", \"Infectious Disease Specialist\", \"Hepatologist\",\n",
        "        \"Hepatologist\", \"Hepatologist\", \"Hepatologist\", \"Hepatologist\", \"Hepatologist\",\n",
        "        \"Pulmonologist or Infectious Disease Specialist\", \"General Practitioner\", \"Pulmonologist\",\n",
        "        \"Gastroenterologist or Colorectal Surgeon\", \"Cardiologist\", \"Vascular Surgeon\", \"Endocrinologist\",\n",
        "        \"Endocrinologist\", \"Endocrinologist\", \"Orthopedic Specialist\", \"Rheumatologist\",\n",
        "        \"Neurologist or ENT Specialist\", \"Dermatologist\", \"Urologist\", \"Dermatologist\", \"Dermatologist\"\n",
        "    ]\n",
        "}\n",
        "\n",
        "\n"
      ]
    },
    {
      "cell_type": "code",
      "source": [
        "# Creating a DataFrame\n",
        "df = pd.DataFrame(data)"
      ],
      "metadata": {
        "id": "MQT4K3uNRvQB"
      },
      "execution_count": 3,
      "outputs": []
    },
    {
      "cell_type": "code",
      "source": [
        "\n",
        "# Saving to CSV and Excel files\n",
        "csv_file_path = \"/mnt/data/Diseases_and_Specialists.csv\"\n",
        "excel_file_path = \"/mnt/data/Diseases_and_Specialists.xlsx\""
      ],
      "metadata": {
        "id": "Lzv09mToR0zP"
      },
      "execution_count": 4,
      "outputs": []
    },
    {
      "cell_type": "code",
      "source": [
        "file_name = \"Diseases_and_Specialists.csv\"\n",
        "df.to_csv(file_name, index=False)\n"
      ],
      "metadata": {
        "id": "HP2UUuSjR02P"
      },
      "execution_count": 7,
      "outputs": []
    },
    {
      "cell_type": "code",
      "source": [
        "from google.colab import files\n",
        "files.download(file_name)"
      ],
      "metadata": {
        "colab": {
          "base_uri": "https://localhost:8080/",
          "height": 17
        },
        "id": "XfnMNm3qSCjY",
        "outputId": "cb5757cd-95c9-404d-bd3a-57622d0c8c57"
      },
      "execution_count": 8,
      "outputs": [
        {
          "output_type": "display_data",
          "data": {
            "text/plain": [
              "<IPython.core.display.Javascript object>"
            ],
            "application/javascript": [
              "\n",
              "    async function download(id, filename, size) {\n",
              "      if (!google.colab.kernel.accessAllowed) {\n",
              "        return;\n",
              "      }\n",
              "      const div = document.createElement('div');\n",
              "      const label = document.createElement('label');\n",
              "      label.textContent = `Downloading \"${filename}\": `;\n",
              "      div.appendChild(label);\n",
              "      const progress = document.createElement('progress');\n",
              "      progress.max = size;\n",
              "      div.appendChild(progress);\n",
              "      document.body.appendChild(div);\n",
              "\n",
              "      const buffers = [];\n",
              "      let downloaded = 0;\n",
              "\n",
              "      const channel = await google.colab.kernel.comms.open(id);\n",
              "      // Send a message to notify the kernel that we're ready.\n",
              "      channel.send({})\n",
              "\n",
              "      for await (const message of channel.messages) {\n",
              "        // Send a message to notify the kernel that we're ready.\n",
              "        channel.send({})\n",
              "        if (message.buffers) {\n",
              "          for (const buffer of message.buffers) {\n",
              "            buffers.push(buffer);\n",
              "            downloaded += buffer.byteLength;\n",
              "            progress.value = downloaded;\n",
              "          }\n",
              "        }\n",
              "      }\n",
              "      const blob = new Blob(buffers, {type: 'application/binary'});\n",
              "      const a = document.createElement('a');\n",
              "      a.href = window.URL.createObjectURL(blob);\n",
              "      a.download = filename;\n",
              "      div.appendChild(a);\n",
              "      a.click();\n",
              "      div.remove();\n",
              "    }\n",
              "  "
            ]
          },
          "metadata": {}
        },
        {
          "output_type": "display_data",
          "data": {
            "text/plain": [
              "<IPython.core.display.Javascript object>"
            ],
            "application/javascript": [
              "download(\"download_47ebf3f0-f110-44bf-9a6c-2a2ea463bc48\", \"Diseases_and_Specialists.csv\", 1466)"
            ]
          },
          "metadata": {}
        }
      ]
    }
  ]
}